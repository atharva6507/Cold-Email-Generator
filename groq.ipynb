{
 "cells": [
  {
   "cell_type": "code",
   "execution_count": null,
   "id": "cb82e9de-5c12-474b-85f2-a087524d6175",
   "metadata": {},
   "outputs": [],
   "source": [
    "pip install langchain"
   ]
  },
  {
   "cell_type": "code",
   "execution_count": 2,
   "id": "e8ffd62c-42db-4eb1-aa8e-3b2683e1d7c2",
   "metadata": {},
   "outputs": [
    {
     "name": "stdout",
     "output_type": "stream",
     "text": [
      "Note: you may need to restart the kernel to use updated packages.\n"
     ]
    },
    {
     "name": "stderr",
     "output_type": "stream",
     "text": [
      "\n",
      "[notice] A new release of pip is available: 24.2 -> 24.3.1\n",
      "[notice] To update, run: python.exe -m pip install --upgrade pip\n"
     ]
    }
   ],
   "source": [
    "%pip install -qU langchain-groq"
   ]
  },
  {
   "cell_type": "code",
   "execution_count": 3,
   "id": "af5b9f83-c216-46f2-a7d7-13146bfa1715",
   "metadata": {},
   "outputs": [],
   "source": [
    "from langchain_groq import ChatGroq"
   ]
  },
  {
   "cell_type": "code",
   "execution_count": 4,
   "id": "4238e2c0-0ae0-4ff3-8006-4e772b2d70f1",
   "metadata": {},
   "outputs": [],
   "source": [
    "llm = ChatGroq(\n",
    "    model=\"llama-3.1-70b-versatile\",\n",
    "    api_key=\"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\",\n",
    "    temperature=0.0\n",
    ")"
   ]
  },
  {
   "cell_type": "code",
   "execution_count": 5,
   "id": "e2de59ed-5e0a-41b7-bed8-c3d5ac7a45e1",
   "metadata": {},
   "outputs": [
    {
     "name": "stdout",
     "output_type": "stream",
     "text": [
      "India is a vast and diverse country with a rich history, culture, and natural beauty. Here are some interesting facts about India:\n",
      "\n",
      "1. **Largest Democracy**: India is the world's largest democracy, with over 900 million eligible voters.\n",
      "2. **Diverse Culture**: India has a diverse culture with over 22 official languages, more than 1,600 dialects, and a mix of Hindu, Muslim, Christian, Sikh, Buddhist, and Jain communities.\n",
      "3. **Ancient Civilization**: India is home to one of the oldest civilizations in the world, with a history dating back over 5,000 years. The Indus Valley Civilization, which flourished around 2500 BCE, is considered one of the earliest urban civilizations.\n",
      "4. **Spice Route**: India was a major hub on the ancient spice route, with spices like pepper, cinnamon, and cardamom being traded extensively with other countries.\n",
      "5. **Yoga and Ayurveda**: India is the birthplace of yoga and Ayurveda, two ancient practices that have gained popularity worldwide for their health and wellness benefits.\n",
      "6. **Taj Mahal**: The Taj Mahal, a stunning white marble mausoleum in Agra, is one of the Seven Wonders of the World and a UNESCO World Heritage Site.\n",
      "7. **Himalayas**: The Himalayas, the world's highest mountain range, stretch across northern India, with the highest peak, Mount Kanchenjunga, located in the state of Sikkim.\n",
      "8. **Festivals and Celebrations**: India is known for its vibrant festivals and celebrations, such as Diwali (the festival of lights), Holi (the festival of colors), and Navratri (a nine-day celebration of music and dance).\n",
      "9. **Cuisine**: Indian cuisine is famous for its rich flavors, aromas, and spices, with popular dishes like tandoori chicken, biryani, and curries.\n",
      "10. **Economic Growth**: India is one of the fastest-growing major economies in the world, with a growing middle class and a thriving tech industry.\n",
      "\n",
      "These are just a few of the many fascinating aspects of India. With its rich history, diverse culture, and natural beauty, India is a country that has something to offer for everyone.\n"
     ]
    }
   ],
   "source": [
    "response = llm.invoke(\"Tell me something about India\")\n",
    "print(response.content)"
   ]
  },
  {
   "cell_type": "code",
   "execution_count": null,
   "id": "9e20c733-1100-4b71-aa74-b7caa01d605e",
   "metadata": {},
   "outputs": [],
   "source": []
  }
 ],
 "metadata": {
  "kernelspec": {
   "display_name": "Python 3 (ipykernel)",
   "language": "python",
   "name": "python3"
  },
  "language_info": {
   "codemirror_mode": {
    "name": "ipython",
    "version": 3
   },
   "file_extension": ".py",
   "mimetype": "text/x-python",
   "name": "python",
   "nbconvert_exporter": "python",
   "pygments_lexer": "ipython3",
   "version": "3.12.4"
  }
 },
 "nbformat": 4,
 "nbformat_minor": 5
}
